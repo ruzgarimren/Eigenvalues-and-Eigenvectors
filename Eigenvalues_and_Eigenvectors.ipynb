{
  "cells": [
    {
      "cell_type": "markdown",
      "metadata": {
        "id": "EAt-K2qgcIou"
      },
      "source": [
        "#  Eigenvalues and Eigenvectors"
      ]
    },
    {
      "cell_type": "markdown",
      "metadata": {
        "id": "3rCXYPk7suV7"
      },
      "source": [
        "## Video Reviews\n",
        "- <a href=\"https://www.youtube.com/watch?v=Ip3X9LOh2dk&list=PL0-GT3co4r2y2YErbmuJw2L5tW4Ew2O5B&index=7\">The Determinant</a>\n",
        "- <a href=\"https://www.youtube.com/watch?v=PFDu9oVAE-g\">Eigenvalues & Eigenvectors</a></h1>\n",
        "\n"
      ]
    },
    {
      "cell_type": "markdown",
      "metadata": {
        "id": "FZYK-0rin5x7"
      },
      "source": [
        "### **After this assignment you will be able to:**\n",
        "- use Python to find eigenvalues and eigenvectors\n",
        "- visualize and interpret eigenvalues and eigenvectos\n",
        "- apply linear transformations, eigenvalues and eigenvectors in a webpage navigation model"
      ]
    },
    {
      "cell_type": "markdown",
      "metadata": {
        "id": "V8TyX2wosuV9"
      },
      "source": [
        "# Table of Contents\n",
        "- [ 1 - Eigenvalues and Eigenvectors: Definition and Interpretation](#1)\n",
        "  - [ 1.1 - Definition of Eigenvalues and Eigenvectors](#1.1)\n",
        "  - [ 1.2 - Finding Eigenvalues and Eigenvectors with Python](#1.2)\n",
        "- [ 2 - Eigenvalues and Eigenvectors of the Standard Transformations in a Plane](#2)\n",
        "  - [ 2.1 - Example 1: Reflection about y-axis (the vertical axis)](#2.1)\n",
        "    - [ Exercise 1](#ex01)\n",
        "  - [ 2.2 - Example 2: Shear in x-direction](#2.2)\n",
        "    - [ Exercise 2](#ex02)\n",
        "  - [ 2.3 - Example 3: Rotation](#2.3)\n",
        "  - [ 2.4 - Example 4: Identity Matrix and Scaling in All Directions](#2.4)\n",
        "  - [ 2.5 - Example 5: Projection onto x-axis](#2.5)\n",
        "- [ 3 - Application of Eigenvalues and Eigenvectors: Navigating Webpages](#3)\n",
        "  - [ Exercise 3](#ex03)\n",
        "  - [ Exercise 4](#ex04)"
      ]
    },
    {
      "cell_type": "markdown",
      "metadata": {
        "id": "XI8PBrk_2Z4V"
      },
      "source": [
        "## Packages\n",
        "Run the following cell to load the packages you will need!"
      ]
    },
    {
      "cell_type": "code",
      "execution_count": null,
      "metadata": {
        "tags": [
          "graded"
        ],
        "id": "cXibUfjUsuV-"
      },
      "outputs": [],
      "source": [
        "import numpy as np\n",
        "import matplotlib.pyplot as plt"
      ]
    },
    {
      "cell_type": "markdown",
      "metadata": {
        "id": "w43dmJPWsuV_"
      },
      "source": [
        "<a name='1'></a>\n",
        "## 1 - Eigenvalues and Eigenvectors: Definition and Interpretation\n",
        "\n",
        "<a name='1.1'></a>\n",
        "### 1.1 - Definition of Eigenvalues and Eigenvectors\n",
        "\n",
        "Let's consider a linear transformation defined by matrix $A=\\begin{bmatrix}2 & 3 \\\\ 2 & 1 \\end{bmatrix}$. Apply this transformation to the standard basis vectors $e_1=\\begin{bmatrix}1 \\\\ 0\\end{bmatrix}$ and $e_2=\\begin{bmatrix}0 \\\\ 1\\end{bmatrix}$ and visualize the result."
      ]
    },
    {
      "cell_type": "code",
      "execution_count": null,
      "metadata": {
        "tags": [
          "graded"
        ],
        "id": "FaIBoJhEsuV_"
      },
      "outputs": [],
      "source": [
        "A = np.array([[2, 3],[2, 1]])\n",
        "e1 = np.array([[1],[0]])\n",
        "e2 = np.array([[0],[1]])"
      ]
    },
    {
      "cell_type": "code",
      "execution_count": null,
      "metadata": {
        "tags": [
          "graded"
        ],
        "id": "YtEbc1VTsuWA",
        "colab": {
          "base_uri": "https://localhost:8080/",
          "height": 731
        },
        "outputId": "1d5a681e-f837-4787-fb7c-9cb7b226000f"
      },
      "outputs": [
        {
          "output_type": "stream",
          "name": "stderr",
          "text": [
            "/usr/local/lib/python3.10/dist-packages/numpy/core/shape_base.py:65: VisibleDeprecationWarning: Creating an ndarray from ragged nested sequences (which is a list-or-tuple of lists-or-tuples-or ndarrays with different lengths or shapes) is deprecated. If you meant to do this, you must specify 'dtype=object' when creating the ndarray.\n",
            "  ary = asanyarray(ary)\n",
            "<ipython-input-3-13398e6b688d>:16: VisibleDeprecationWarning: Creating an ndarray from ragged nested sequences (which is a list-or-tuple of lists-or-tuples-or ndarrays with different lengths or shapes) is deprecated. If you meant to do this, you must specify 'dtype=object' when creating the ndarray.\n",
            "  v1_sgn = 0.4 * np.array([[1] if i==0 else [i] for i in np.sign(v1)])\n",
            "<ipython-input-3-13398e6b688d>:18: VisibleDeprecationWarning: Creating an ndarray from ragged nested sequences (which is a list-or-tuple of lists-or-tuples-or ndarrays with different lengths or shapes) is deprecated. If you meant to do this, you must specify 'dtype=object' when creating the ndarray.\n",
            "  v2_sgn = 0.4 * np.array([[1] if i==0 else [i] for i in np.sign(v2)])\n"
          ]
        },
        {
          "output_type": "display_data",
          "data": {
            "text/plain": [
              "<Figure size 700x700 with 1 Axes>"
            ],
            "image/png": "[encoded data removed]"
          },
          "metadata": {}
        }
      ],
      "source": [
        "def plot_transformation(T,v1,v2):\n",
        "    color_original = \"#129cab\"\n",
        "    color_transformed = \"#cc8933\"\n",
        "\n",
        "    _, ax = plt.subplots(figsize=(7, 7))\n",
        "    ax.tick_params(axis='x', labelsize=14)\n",
        "    ax.tick_params(axis='y', labelsize=14)\n",
        "    ax.set_xticks(np.arange(-6, 6))\n",
        "    ax.set_yticks(np.arange(-6, 6))\n",
        "\n",
        "    plt.axis([-6, 6, -6, 6])\n",
        "    plt.quiver([0, 0],[0, 0], [v1[0], v2[0]], [v1[1], v2[1]], color=color_original, angles='xy', scale_units='xy', scale=1)\n",
        "    plt.plot([0,v2[0],v1[0]+v2[0],v1[0]],\n",
        "        [0,v2[1],v1[1]+v2[1],v1[1]],\n",
        "        color=color_original)\n",
        "    v1_sgn = 0.4 * np.array([[1] if i==0 else [i] for i in np.sign(v1)])\n",
        "    ax.text(v1[0]-0.2+v1_sgn[0], v1[1]-0.2+v1_sgn[1], f'$v_1$', fontsize=14, color=color_original)\n",
        "    v2_sgn = 0.4 * np.array([[1] if i==0 else [i] for i in np.sign(v2)])\n",
        "    ax.text(v2[0]-0.2+v2_sgn[0], v2[1]-0.2+v2_sgn[1], f'$v_2$', fontsize=14, color=color_original)\n",
        "\n",
        "    v1_transformed = T @ v1\n",
        "    v2_transformed = T @ v2\n",
        "\n",
        "    plt.quiver([0, 0],[0, 0], [v1_transformed[0], v2_transformed[0]], [v1_transformed[1], v2_transformed[1]],\n",
        "               color=color_transformed, angles='xy', scale_units='xy', scale=1)\n",
        "    plt.plot([0,v2_transformed[0],v1_transformed[0]+v2_transformed[0],v1_transformed[0]],\n",
        "             [0,v2_transformed[1],v1_transformed[1]+v2_transformed[1],v1_transformed[1]],\n",
        "             color=color_transformed)\n",
        "    v1_transformed_sgn = 0.4 * np.array([[1] if i==0 else [i] for i in np.sign(v1_transformed)])\n",
        "    ax.text(v1_transformed[0]-0.2+v1_transformed_sgn[0], v1_transformed[1]-v1_transformed_sgn[1],\n",
        "            f'$T(v_1)$', fontsize=14, color=color_transformed)\n",
        "    v2_transformed_sgn = 0.4 * np.array([[1] if i==0 else [i] for i in np.sign(v2_transformed)])\n",
        "    ax.text(v2_transformed[0]-0.2+v2_transformed_sgn[0], v2_transformed[1]-v2_transformed_sgn[1],\n",
        "            f'$T(v_2)$', fontsize=14, color=color_transformed)\n",
        "\n",
        "\n",
        "    plt.gca().set_aspect(\"equal\")\n",
        "    plt.show()\n",
        "\n",
        "plot_transformation(A, e1, e2)"
      ]
    },
    {
      "cell_type": "markdown",
      "metadata": {
        "id": "ih7uWb2LsuWB"
      },
      "source": [
        "Both of the original basis vectors $e_1$ and $e_2$ (shown as $v_1$ and $v_2$ on the plot) changed their length and direction with the transformation $A$. What if you can choose some other basis vectors, where only their length will change? For the vector $v$, its transformation will be $Av=\\lambda v$. Vector $v$ will be called **eigenvector** and scaling factor $\\lambda$ will be called **eigenvalue**.\n",
        "\n",
        "Note, that if $v$ is an eigenvector, so that $Av = \\lambda v$, then any vector $kv$ ($k\\in\\mathbb{R}, k\\neq 0$) is also an eigenvector with the same eigenvalue: $A(kv)=k(Av)=k \\lambda v = \\lambda (kv)$. Geometrically, in $\\mathbb{R}^2$ this means that there are infinitely many eigenvectors corresponding to one eigenvalue, they are on the same straight line. And usually just one can be chosen as an eigenvector."
      ]
    },
    {
      "cell_type": "markdown",
      "metadata": {
        "id": "PBeR14wGsuWB"
      },
      "source": [
        "<a name='1.2'></a>\n",
        "### 1.2 - Finding Eigenvalues and Eigenvectors with Python"
      ]
    },
    {
      "cell_type": "markdown",
      "metadata": {
        "id": "QgSfYNsKsuWC"
      },
      "source": [
        "In Python eigenvalues and eigenvectors can be found using the `NumPy` function `np.linalg.eig()`. It returns a <a href=\"https://www.youtube.com/watch?v=ncpb4wIsQu8\">tuple</a> consisting of a vector and an array. The vector contains the eigenvalues. The array contains the corresponding eigenvectors, one eigenvector per column. The eigenvectors chosen are the normalized ones, so their norms are 1.\n",
        "\n",
        "With the following code you can find an eigenvalues and eigenvectors for the previously defined matrix $A$:"
      ]
    },
    {
      "cell_type": "code",
      "execution_count": null,
      "metadata": {
        "tags": [
          "graded"
        ],
        "id": "rI07o9TXsuWC",
        "colab": {
          "base_uri": "https://localhost:8080/"
        },
        "outputId": "81a2fa98-b51f-46f8-cdbc-7becc6ceea8d"
      },
      "outputs": [
        {
          "output_type": "stream",
          "name": "stdout",
          "text": [
            "Matrix A:\n",
            " [[2 3]\n",
            " [2 1]] \n",
            "\n",
            " Eigenvalues and eigenvectors of matrix A:\n",
            " (array([ 4., -1.]), array([[ 0.83205029, -0.70710678],\n",
            "       [ 0.5547002 ,  0.70710678]]))\n"
          ]
        }
      ],
      "source": [
        "A_eig = np.linalg.eig(A)\n",
        "\n",
        "print(\"Matrix A:\\n\", A, \"\\n\\n Eigenvalues and eigenvectors of matrix A:\\n\", A_eig)"
      ]
    },
    {
      "cell_type": "markdown",
      "metadata": {
        "id": "4wszt_lJsuWC"
      },
      "source": [
        "First eigenvector can be extrancted with the code `A_eig[1][:,0]` and second eigenvector with the code `A_eig[1][:,1]`. Let's visualize the result of the transformation:"
      ]
    },
    {
      "cell_type": "code",
      "execution_count": null,
      "metadata": {
        "tags": [
          "graded"
        ],
        "id": "owjaomnfsuWC",
        "colab": {
          "base_uri": "https://localhost:8080/",
          "height": 604
        },
        "outputId": "75fc490f-b3df-4fd8-d9a3-8ff0f33c4e73"
      },
      "outputs": [
        {
          "output_type": "display_data",
          "data": {
            "text/plain": [
              "<Figure size 700x700 with 1 Axes>"
            ],
            "image/png": "[encoded data removed]"
          },
          "metadata": {}
        }
      ],
      "source": [
        "plot_transformation(A, A_eig[1][:,0], A_eig[1][:,1])"
      ]
    },
    {
      "cell_type": "markdown",
      "metadata": {
        "id": "HkamT1mOsuWC"
      },
      "source": [
        "You can see that now that this linear transformation can be interpreted as a stretch in the direction of the eigenvector $v_1$ and change of the direction for the vector $v_2$."
      ]
    },
    {
      "cell_type": "markdown",
      "metadata": {
        "id": "5kjAsJzIsuWD"
      },
      "source": [
        "<a name='2'></a>\n",
        "## 2 - Eigenvalues and Eigenvectors of the Standard Transformations in a Plane\n"
      ]
    },
    {
      "cell_type": "markdown",
      "metadata": {
        "id": "PxPKsuhbsuWD"
      },
      "source": [
        "<a name='2.1'></a>\n",
        "### 2.1 - Example 1: Reflection about y-axis (the vertical axis)"
      ]
    },
    {
      "cell_type": "markdown",
      "metadata": {
        "id": "NlPeVAGCsuWD"
      },
      "source": [
        "<h1 style=\"color: red;>Reminder:</h1>\n",
        "<p><b>Each time you complete an exercise, click on the cell and then run to check if your code block gives the expected output!</b></p>\n",
        "\n"
      ]
    },
    {
      "cell_type": "markdown",
      "metadata": {
        "id": "rmx5AVJ3suWD"
      },
      "source": [
        "<a name='ex01'></a>\n",
        "### Exercise 1\n",
        "\n",
        "Complete matrix `A_reflection_yaxis`, which corresponds to the reflection about y-axis, and find its eigenvalues and eigenvectors. Visualize the result and investigate it. How would you interpret this linear transformation in terms of the eigenvectors and thier eigenvalues?"
      ]
    },
    {
      "cell_type": "code",
      "execution_count": null,
      "metadata": {
        "tags": [
          "graded"
        ],
        "id": "O7wOwIPgsuWD"
      },
      "outputs": [],
      "source": [
        "### START YOUR CODE HERE ###\n",
        "# Define the transformation matrix A_reflection_yaxis as a numpy array.\n",
        "A_reflection_yaxis = None\n",
        "\n",
        "# Find eigenvalues and eigenvectors of matrix A_reflection_yaxis.\n",
        "A_reflection_yaxis_eig = None\n",
        "### END YOUR CODE HERE ###\n",
        "\n",
        "print(\"Matrix A_reflection_yaxis:\\n\", A_reflection_yaxis,\n",
        "      \"\\n\\n Eigenvalues and eigenvectors of matrix A_reflection_yaxis:\\n\", A_reflection_yaxis_eig)\n",
        "plot_transformation(A_reflection_yaxis, A_reflection_yaxis_eig[1][:,0], A_reflection_yaxis_eig[1][:,1])"
      ]
    },
    {
      "cell_type": "markdown",
      "metadata": {
        "id": "3CbMnK93suWD"
      },
      "source": [
        "<a name='2.2'></a>\n",
        "### 2.2 - Example 2: Shear in x-direction"
      ]
    },
    {
      "cell_type": "markdown",
      "metadata": {
        "id": "tSCfD1VBsuWD"
      },
      "source": [
        "<a name='ex02'></a>\n",
        "### Exercise 2\n",
        "\n",
        "Complete matrix `A_shear_x`, which corresponds to the shear in x-direction with a scalar $1$. It can be visualized as:\n",
        "\n",
        "<img src = \"https://i.stack.imgur.com/90xMH.jpg\" width=\"300\" height=\" 250\" align=\"center\"/>\n",
        "\n",
        "Find eigenvalues and eigenvectors of matrix `A_shear_x`. Visualize the transformation applied to the found eigenvectors.\n",
        "\n",
        "<details>    \n",
        "<summary>\n",
        "    <font size=\"3\" color=\"darkgreen\"><b>Hint</b></font>\n",
        "</summary>\n",
        "<p>\n",
        "<ul>\n",
        "    Vector e_1=\\begin{bmatrix}1 \\\\ 0\\end{bmatrix} will remain the same, and vector e_2=\\begin{bmatrix}0 \\\\ 1\\end{bmatrix} will transform into a vector \\begin{bmatrix}0.5 \\\\ 1\\end{bmatrix}.\n",
        "</ul>\n",
        "</p>"
      ]
    },
    {
      "cell_type": "code",
      "execution_count": null,
      "metadata": {
        "tags": [
          "graded"
        ],
        "id": "39MYnaKrsuWD"
      },
      "outputs": [],
      "source": [
        "### START CODE HERE ###\n",
        "# Define transformation matrix A_shear_x as a numpy array.\n",
        "A_shear_x = None\n",
        "# Find eigenvalues and eigenvectors of matrix A_shear_x.\n",
        "A_shear_x_eig = None\n",
        "### END CODE HERE ###\n",
        "\n",
        "print(\"Matrix A_shear_x:\\n\", A_shear_x,\n",
        "      \"\\n\\n Eigenvalues and eigenvectors of matrix A_shear_x:\\n\", A_shear_x_eig)\n",
        "plot_transformation(A_shear_x, A_shear_x_eig[1][:,0], A_shear_x_eig[1][:,1])"
      ]
    },
    {
      "cell_type": "markdown",
      "metadata": {
        "id": "yX0m4QqFsuWD"
      },
      "source": [
        "There are two eigenvalues $\\lambda  =1$, that are equal to each other. Thus, shear transformation has only one eigenvector. Here there is no change in the x-direction, and any other vector outside of the $Ox$ line will be sheared, so they cannot be eigenvectors. This is an example of $2 \\times 2$ matrix with only one eigenvector.\n",
        "\n",
        "Now you might have asked yourself, are there any linear transformations in $\\mathbb{R}^2$ with no eigenvectors?"
      ]
    },
    {
      "cell_type": "markdown",
      "metadata": {
        "id": "eZIrWgkmsuWD"
      },
      "source": [
        "<a name='2.3'></a>\n",
        "### 2.3 - Example 3: Rotation\n",
        "\n",
        "Rotation by $90$ degrees clockwise can be defined by matrix $A_{rotation}=\\begin{bmatrix}0 & 1 \\\\ -1 & 0 \\end{bmatrix}$. Find its eigenvalues and eigenvectors:"
      ]
    },
    {
      "cell_type": "code",
      "execution_count": null,
      "metadata": {
        "tags": [
          "graded"
        ],
        "id": "OswF2X2xsuWE"
      },
      "outputs": [],
      "source": [
        "A_rotation = np.array([[0, 1],[-1, 0]])\n",
        "A_rotation_eig = np.linalg.eig(A_rotation)\n",
        "\n",
        "print(\"Matrix A_rotation:\\n\", A_rotation,\n",
        "      \"\\n\\n Eigenvalues and eigenvectors of matrix A_rotation:\\n\", A_rotation_eig)"
      ]
    },
    {
      "cell_type": "markdown",
      "metadata": {
        "id": "PLAOuLqTsuWE"
      },
      "source": [
        "There are two eigenvalues in the output, but they are actually complex numbers. So, there are no *real* eigenvalues ($\\lambda\\notin\\mathbb{R}$), which means there will be no vectors that will keep their direction with this transformation. This makes sense for the rotation 90 degress, doesn't it?"
      ]
    },
    {
      "cell_type": "markdown",
      "metadata": {
        "id": "3TRGV4K3suWE"
      },
      "source": [
        "<a name='2.4'></a>\n",
        "### 2.4 - Example 4: Identity Matrix and Scaling in All Directions\n",
        "\n",
        "Now you can investigate some other examples. What if you take identity matrix? This means that there will be no change to any vector in the plane - all of the vectors can be considered as eigenvectors."
      ]
    },
    {
      "cell_type": "code",
      "execution_count": null,
      "metadata": {
        "tags": [
          "graded"
        ],
        "id": "usnnInodsuWE"
      },
      "outputs": [],
      "source": [
        "A_identity = np.array([[1, 0],[0, 1]])\n",
        "A_identity_eig = np.linalg.eig(A_identity)\n",
        "\n",
        "print(\"Matrix A_identity:\\n\", A_identity,\n",
        "      \"\\n\\n Eigenvalues and eigenvectors of matrix A_identity:\\n\", A_identity_eig)"
      ]
    },
    {
      "cell_type": "markdown",
      "metadata": {
        "id": "KYBi8oDVsuWE"
      },
      "source": [
        "The out of the `np.linalg.eig()` function shows that there are two eigenvalues that are equal to each other $\\lambda = 1$, which is true. But the list of eigenvectors does not cover all of them. It can be show algebraically that all of the vectors will be eigenvectors for identity matrix. Using software, you can't see it sometimes - be careful! That's why understanding of mathematical objects behind your codes and models is so important.\n",
        "\n",
        "Check that the same will happen finding eigenvectors for the scaling (dilation) in both directions x and y by factor $2$:"
      ]
    },
    {
      "cell_type": "code",
      "execution_count": null,
      "metadata": {
        "tags": [
          "graded"
        ],
        "id": "P6h92INMsuWE"
      },
      "outputs": [],
      "source": [
        "A_scaling = np.array([[2, 0],[0, 2]])\n",
        "A_scaling_eig = np.linalg.eig(A_scaling)\n",
        "\n",
        "print(\"Matrix A_scaling:\\n\", A_scaling,\n",
        "      \"\\n\\n Eigenvalues and eigenvectors of matrix A_scaling:\\n\", A_scaling_eig)"
      ]
    },
    {
      "cell_type": "markdown",
      "metadata": {
        "id": "ZGqEEEpQsuWE"
      },
      "source": [
        "<a name='2.5'></a>\n",
        "### 2.5 - Example 5: Projection onto x-axis"
      ]
    },
    {
      "cell_type": "markdown",
      "metadata": {
        "id": "9EyZ_AQksuWE"
      },
      "source": [
        "You can investigate some more interesting examples, e.g. projection onto x-axis $A_{projection}=\\begin{bmatrix}1 & 0 \\\\ 0 & 0 \\end{bmatrix}$ has two real eigenvalues, and one of them is equal to $0$. There is nothing wrong with it, $\\lambda$ can be equal to $0$! The transformation still has two eigenvectors."
      ]
    },
    {
      "cell_type": "code",
      "execution_count": null,
      "metadata": {
        "tags": [
          "graded"
        ],
        "id": "YDMLDy5nsuWE"
      },
      "outputs": [],
      "source": [
        "A_projection = np.array([[1, 0],[0, 0]])\n",
        "A_projection_eig = np.linalg.eig(A_projection)\n",
        "\n",
        "print(\"Matrix A_projection:\\n\", A_projection,\n",
        "      \"\\n\\n Eigenvalues and eigenvectors of matrix A_projection:\\n\", A_projection_eig)"
      ]
    },
    {
      "cell_type": "markdown",
      "metadata": {
        "id": "m_ZCn_fgsuWF"
      },
      "source": [
        "Now you know how to find eigenvalues and eigenvectors. Let's have a look at one of their applications."
      ]
    },
    {
      "cell_type": "markdown",
      "metadata": {
        "id": "E8ear7GMsuWF"
      },
      "source": [
        "<a name='3'></a>\n",
        "## 3 - Application of Eigenvalues and Eigenvectors: Navigating Webpages\n",
        "\n",
        "Multiple components describing some structure can be organized as a single vector. If the state of the structure is changing in time due to some process, the vector is referred as a **state vector**. Such dynamic processes are often modeled at discrete times calculating the state vector as a linear transformation of a previous state vector. This model is called a **discrete dynamical system**.\n",
        "\n",
        "Starting with an initial state $X_0$, the transition to the next state $X_1$ is a linear transformation defined with a matrix $P$: $X_1=PX_0$. That leads to $X_2=PX_1=P^2X_0$, $X_3=P^3X_0$, and so on. This shows that $X_t=PX_{t-1}$ for $t=0,1,2,3,\\ldots$.\n",
        "\n",
        "A discrete dynamical system can be used to model browsing web pages. Web pages often contain links to other pages, for simplicity assume that the browser is only following links to a new page rather than navigating to an unlinked one.\n",
        "\n",
        "Let the probabilities that the browser is on a particular page at time $t$ be a state vector $X_t$. Navigation from one page to another advances the model from one state vector $X_{t-1}$ to another state vector $X_t$. A linear transformation, defined by a matrix $P$, will have entries $a_{ij}$ with the probabilities that the browser navigates to page $i$ from page $j$. For fixed column $j$, the entries represent a probability distribution describing location of the browser at the next step. Thus, the entries in each column must add to one."
      ]
    },
    {
      "cell_type": "markdown",
      "metadata": {
        "id": "Zw41bstqsuWF"
      },
      "source": [
        "<a name='ex03'></a>\n",
        "### Exercise 3\n",
        "\n",
        "Set matrix $P$ for a small number of pages $n=5$. All elements on the main diagonal should be equal to $0$, and the entries in each column must add to one. Here is an example of such a matrix for $n=4$:\n",
        "\n",
        "$$P=\n",
        "\\begin{bmatrix}\n",
        "0 & 0.75 & 0.35 & 0.85 \\\\\n",
        "0.15 & 0 & 0.35 & 0.05 \\\\\n",
        "0.30 & 0.20 & 0 & 0.1 \\\\\n",
        "0.55 & 0.05 & 0.30 & 0\n",
        "\\end{bmatrix}\\\n",
        "$$\n",
        "\n",
        "Define vector $X_0$, so the browser starts navigation at page $4$ ($X_0$ is a vector with a single entry equal to one, and all other entries equal to zero). Apply the transformation once: $X_1=PX_0$ to find a vector of the probabilities that the browser is at each of five pages."
      ]
    },
    {
      "cell_type": "code",
      "execution_count": null,
      "metadata": {
        "tags": [
          "graded"
        ],
        "id": "aKFA6unIsuWF",
        "colab": {
          "base_uri": "https://localhost:8080/"
        },
        "outputId": "9d517985-4ad9-4ee3-c913-7ef03d4903d8"
      },
      "outputs": [
        {
          "output_type": "stream",
          "name": "stdout",
          "text": [
            "1.0\n"
          ]
        }
      ],
      "source": [
        "### START CODE HERE ###\n",
        "# Based on the example above for n=4 define matrix P for n=5,\n",
        "# such that all elements on the main diagonal should be equal to 0,\n",
        "# and the entries in each column must add to one.\n",
        "P = np.array([\n",
        "    [0, 0.75, 0.35, 0.15, 0.05],\n",
        "    [0.35, 0, 0.20, 0.30, 0.15],\n",
        "    [0.45, 0, 0, 0.55, 0.30],\n",
        "    [0.15, 0.10, 0.35, 0, 0.50],\n",
        "    [0.05, 0.15, 0.10, 0, 0],\n",
        "])\n",
        "\n",
        "# Define vector X_0\n",
        "X_0 = None\n",
        "\n",
        "# Multiply matrix P and X_0 (matrix multiplication) - assign it to X_1.\n",
        "X_1 = None\n",
        "\n",
        "### END CODE HERE ###\n",
        "print(sum(X_1))"
      ]
    },
    {
      "cell_type": "markdown",
      "metadata": {
        "id": "R6EKTNLYsuWL"
      },
      "source": [
        "##### __Expected Output__\n",
        "\n",
        "```Python\n",
        "1.0\n",
        "```"
      ]
    },
    {
      "cell_type": "markdown",
      "metadata": {
        "id": "sySvD353suWM"
      },
      "source": [
        "Applying the transformation $m$ times you can find a vector $X_m$ with the probabilities of the browser being at each of the pages after $m$ steps of navigation."
      ]
    },
    {
      "cell_type": "code",
      "execution_count": null,
      "metadata": {
        "tags": [
          "graded"
        ],
        "id": "Han5jKCGsuWM"
      },
      "outputs": [],
      "source": [
        "X = np.array([[0],[0],[0],[1],[0]])\n",
        "m = 20\n",
        "\n",
        "for t in range(m):\n",
        "\n",
        "    X = P @ X\n",
        "\n",
        "print(X)"
      ]
    },
    {
      "cell_type": "markdown",
      "metadata": {
        "id": "LdZnRwVNsuWM"
      },
      "source": [
        "It is interesting to predict the probabilities in $X_m$ when $m$ is large, and thus determining what pages a browser are more likely to visit after this sort of random navigation. To do that you have to apply the transformation many times, and in real life problems this will be computationally expensive. Eigenvalues and eigenvectos can help here significantly reducing the amount of calculations."
      ]
    },
    {
      "cell_type": "markdown",
      "metadata": {
        "id": "dhC603_AsuWM"
      },
      "source": [
        "Try to find eigenvalues and eigenvectors for the previously defined matrix $P$:"
      ]
    },
    {
      "cell_type": "code",
      "execution_count": null,
      "metadata": {
        "tags": [
          "graded"
        ],
        "id": "CK0ZKQfnsuWM"
      },
      "outputs": [],
      "source": [
        "np.linalg.eig(P)"
      ]
    },
    {
      "cell_type": "markdown",
      "metadata": {
        "id": "kZYomFcgsuWM"
      },
      "source": [
        "A square matrix is called a **Markov matrix** if all entries are nonnegative and the sum of each column elements is equal to $1$. Markov matrices have a handy property - they always have an eigenvalue equals to 1.\n",
        "\n",
        "Matrix $P$ was defined in such a way, that it is actually a Markov matrix, and you can see that it has an eigenvalue $1$. The equation $X_m=PX_{m-1}$ can be rewritten as $PX_{m-1}=1\\times X_m$. Predicting probabilities in $X_m$ when $m$ is large you can actually look for an eigenvector corresponding to the eigenvalue $1$, because then you will get $PX = X$."
      ]
    },
    {
      "cell_type": "code",
      "execution_count": null,
      "metadata": {
        "tags": [
          "graded"
        ],
        "id": "tOOn6gOrsuWM"
      },
      "outputs": [],
      "source": [
        "X_inf = np.linalg.eig(P)[1][:,0]\n",
        "\n",
        "print(\"Eigenvector corresponding to the eigenvalue 1:\\n\" + str(X_inf))"
      ]
    },
    {
      "cell_type": "markdown",
      "metadata": {
        "id": "qQeeNpFhsuWM"
      },
      "source": [
        "<a name='ex04'></a>\n",
        "### Exercise 4\n",
        "\n",
        "Perform matrix multiplication $PX$ (multiply matrix `P` and vector `X_inf`) to check that the result will be equal to the vector $X$ (`X_inf`)."
      ]
    },
    {
      "cell_type": "code",
      "execution_count": null,
      "metadata": {
        "tags": [
          "graded"
        ],
        "id": "7TRNNAxVsuWM"
      },
      "outputs": [],
      "source": [
        "def check_eigenvector(P, X_inf):\n",
        "    ### START CODE HERE ###\n",
        "    X_check = None\n",
        "    ### END CODE HERE ###\n",
        "\n",
        "    return X_check\n",
        "\n",
        "X_check = check_eigenvector(P, X_inf)\n",
        "\n",
        "print(\"Original eigenvector corresponding to the eigenvalue 1:\\n\" + str(X_inf))\n",
        "print(\"Result of multiplication:\" + str(X_check))\n",
        "\n",
        "# Function np.isclose compares two NumPy arrays element by element, allowing for error tolerance (rtol parameter).\n",
        "print(\"Check that PX=X element by element:\" + str(np.isclose(X_inf, X_check, rtol=1e-10)))"
      ]
    },
    {
      "cell_type": "markdown",
      "source": [
        "##### __Expected Output__\n",
        "```\n",
        "  Original eigenvector corresponding to the eigenvalue 1:\n",
        "  [-0.58792987+0.j -0.4506748 +0.j -0.5248446 +0.j -0.39169366+0.j\n",
        "  -0.14948217+0.j]\n",
        "  Result of multiplication:[-0.58792987+0.j -0.4506748 +0.j -0.5248446 +0.j -0.39169366+0.j\n",
        "  -0.14948217+0.j]\n",
        "  Check that PX=X element by element:[ True  True  True  True  True]\n",
        "```"
      ],
      "metadata": {
        "id": "mcb-nNvy9ety"
      }
    },
    {
      "cell_type": "markdown",
      "metadata": {
        "id": "mPTkH8UesuWN"
      },
      "source": [
        "The output eigenvectors of the `np.linalg.eig()` function are normalized so that their norm is $1$. For the vector $X$ you would like to choose a vector in the same direction, so that the sum of its elements is equal to $1$:"
      ]
    },
    {
      "cell_type": "code",
      "execution_count": null,
      "metadata": {
        "tags": [
          "graded"
        ],
        "id": "JQm38gSGsuWN"
      },
      "outputs": [],
      "source": [
        "X_inf = X_inf / sum(X_inf)\n",
        "\n",
        "print(\"Probabilities being at each of the pages:\\n\" + str(X_inf))"
      ]
    },
    {
      "cell_type": "markdown",
      "metadata": {
        "id": "soNEC_WLsuWN"
      },
      "source": [
        "You can see the probabilities of the browser being at each of the pages after infinite steps of navigation. Such type of a model was the foundation of the PageRank algorithm, which is the basis of Google's **very** successful search engine."
      ]
    },
    {
      "cell_type": "markdown",
      "source": [
        "Congratulations! You have finished the assignment 😃👍🏻"
      ],
      "metadata": {
        "id": "j5GRFYLuS68R"
      }
    },
    {
      "cell_type": "markdown",
      "metadata": {
        "tags": [
          "graded"
        ],
        "id": "twPc41BisuWN"
      },
      "source": [
        "**<h2>Visit <a href=\"https://www.youtube.com/watch?v=ZK3O402wf1c&list=PL49CF3715CB9EF31D&index=1\">MIT OCW</a> for more!</h2>**\n",
        "\n",
        "## **Resources**:\n",
        "- https://quantum-computing.ibm.com/lab\n",
        "- https://qosf.org/project_list/\n",
        "- https://matplotlib.org/stable/users/index\n",
        "- https://medium.com/@mnf710104quantum-computing-open-source-projects-f23e7ead31ec\n",
        "https://www.youtube.com/@mitocw\n",
        "- https://numpy.org/doc/\n",
        "- https://www.youtube.com/@ibmresearch\n",
        "- https://www.youtube.com/@qiskit\n",
        "\n",
        "\n",
        "\n",
        "## **Special Thanks**:\n",
        "- <a href=\"https://batuyalcin.org\">Batu Yalcin</a>\n",
        "- <a href=\"https://cinaryuva.blogspot.com/2011/11/cinar-yuva-damla-grubu-ataturk-siirleri.html\">Ali Emre Koklu</a>\n"
      ]
    }
  ],
  "metadata": {
    "accelerator": "GPU",
    "colab": {
      "provenance": [],
      "collapsed_sections": [
        "tSCfD1VBsuWD",
        "R6EKTNLYsuWL"
      ]
    },
    "coursera": {
      "schema_names": [
        "AI4MC1-1"
      ]
    },
    "grader_version": "2",
    "kernelspec": {
      "display_name": "Python 3 (ipykernel)",
      "language": "python",
      "name": "python3"
    },
    "language_info": {
      "codemirror_mode": {
        "name": "ipython",
        "version": 3
      },
      "file_extension": ".py",
      "mimetype": "text/x-python",
      "name": "python",
      "nbconvert_exporter": "python",
      "pygments_lexer": "ipython3",
      "version": "3.11.4"
    },
    "toc": {
      "base_numbering": 1,
      "nav_menu": {},
      "number_sections": true,
      "sideBar": true,
      "skip_h1_title": false,
      "title_cell": "Table of Contents",
      "title_sidebar": "Contents",
      "toc_cell": false,
      "toc_position": {},
      "toc_section_display": true,
      "toc_window_display": false
    },
    "vscode": {
      "interpreter": {
        "hash": "478841ab876a4250505273c8a697bbc1b6b194054b009c227dc606f17fb56272"
      }
    }
  },
  "nbformat": 4,
  "nbformat_minor": 0
}